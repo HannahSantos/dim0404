{
 "cells": [
  {
   "cell_type": "code",
   "execution_count": 20,
   "id": "bc71b1b6-c973-44c8-b86c-55850a9b981a",
   "metadata": {},
   "outputs": [],
   "source": [
    "import sympy\n",
    "import numpy as np"
   ]
  },
  {
   "cell_type": "code",
   "execution_count": 21,
   "id": "0a2fc986-e6ed-4fb9-b3d3-8c801fcaca37",
   "metadata": {},
   "outputs": [],
   "source": [
    "def alg_newton(a, niter, min_error) :\n",
    "    x_o = 1\n",
    "    for k in range(niter):\n",
    "        x_k = (x_o + (a/x_o))*(1/2)\n",
    "        e = np.abs(x_k - x_o)/np.abs(x_k)\n",
    "        if e < min_error :\n",
    "            return x_k\n",
    "        x_o = x_k\n",
    "    return x_k"
   ]
  },
  {
   "cell_type": "code",
   "execution_count": 29,
   "id": "6828288e-3878-4bdf-9ab0-879ecb768f80",
   "metadata": {},
   "outputs": [
    {
     "data": {
      "text/plain": [
       "30.0"
      ]
     },
     "execution_count": 29,
     "metadata": {},
     "output_type": "execute_result"
    }
   ],
   "source": [
    "x = alg_newton(900, 100, 0.000000001)\n",
    "x"
   ]
  },
  {
   "cell_type": "code",
   "execution_count": null,
   "id": "4321dbd8-81a7-4a29-b07c-ee7ef29a45df",
   "metadata": {},
   "outputs": [],
   "source": []
  }
 ],
 "metadata": {
  "kernelspec": {
   "display_name": "Python 3 (ipykernel)",
   "language": "python",
   "name": "python3"
  },
  "language_info": {
   "codemirror_mode": {
    "name": "ipython",
    "version": 3
   },
   "file_extension": ".py",
   "mimetype": "text/x-python",
   "name": "python",
   "nbconvert_exporter": "python",
   "pygments_lexer": "ipython3",
   "version": "3.12.1"
  }
 },
 "nbformat": 4,
 "nbformat_minor": 5
}
