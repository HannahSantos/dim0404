{
 "cells": [
  {
   "cell_type": "code",
   "execution_count": 77,
   "id": "76a2e93a-595b-40d2-bafd-10eb51b927ac",
   "metadata": {},
   "outputs": [],
   "source": [
    "import numpy as np\n",
    "import random"
   ]
  },
  {
   "cell_type": "code",
   "execution_count": 78,
   "id": "6209e253-754d-401f-b7f8-068dc1536a08",
   "metadata": {},
   "outputs": [],
   "source": [
    "## Encontra o mínimo e o máximo de uma lista(números).\n",
    "def min_and_max(X):\n",
    "    N = len(X)\n",
    "    min = X[0]\n",
    "    max = X[0]\n",
    "    for i in range(N):\n",
    "        if X[i] > max:\n",
    "            max = X[i]\n",
    "        if X[i] < min:\n",
    "            min = X[i]\n",
    "    return min, max"
   ]
  },
  {
   "cell_type": "code",
   "execution_count": 79,
   "id": "5cc2c2fb-4425-4052-9ea8-84192bcee59d",
   "metadata": {},
   "outputs": [],
   "source": [
    "## Retorna a menor distância euclidiana entre um conjunto de pontos\n",
    "def min_euc_dist(X, Y):\n",
    "    N = len(X)\n",
    "    assert N == len(Y)\n",
    "    min_norm = +10000000.0\n",
    "    for i in range(N):\n",
    "        for j in range(N):\n",
    "            if i != j:\n",
    "                norm = np.sqrt((X[i]-X[j])**2 + (Y[i]-Y[j])**2)\n",
    "                if norm < min_norm:\n",
    "                    min_norm = norm\n",
    "    return min_norm"
   ]
  },
  {
   "cell_type": "code",
   "execution_count": 80,
   "id": "41035ed9-612f-4e8c-95f5-5fa36a63a503",
   "metadata": {},
   "outputs": [],
   "source": [
    "##\n",
    "def sort(X):\n",
    "    N = len(X)\n",
    "    for i in range(N):\n",
    "        for j in range(N):\n",
    "            if X[i] < X[j]:\n",
    "                aux = X[i]\n",
    "                X[i] = X[j]\n",
    "                X[j] = aux\n",
    "    return X\n",
    "                "
   ]
  },
  {
   "cell_type": "code",
   "execution_count": 81,
   "id": "feeab871-8b47-4b6b-b34a-fc9d6ca343bb",
   "metadata": {},
   "outputs": [
    {
     "data": {
      "text/plain": [
       "[23,\n",
       " 47,\n",
       " 45,\n",
       " 26,\n",
       " 50,\n",
       " 29,\n",
       " 14,\n",
       " 0,\n",
       " 60,\n",
       " 28,\n",
       " 54,\n",
       " 44,\n",
       " 46,\n",
       " 33,\n",
       " 46,\n",
       " 14,\n",
       " 16,\n",
       " 28,\n",
       " 33,\n",
       " 27,\n",
       " 5,\n",
       " 20,\n",
       " 14,\n",
       " 15,\n",
       " 36,\n",
       " 32,\n",
       " 42,\n",
       " 2,\n",
       " 23,\n",
       " 8,\n",
       " 27,\n",
       " 44,\n",
       " 20,\n",
       " 6,\n",
       " 48,\n",
       " 4,\n",
       " 11,\n",
       " 64,\n",
       " 58,\n",
       " 56,\n",
       " 38,\n",
       " 57,\n",
       " 61,\n",
       " 56,\n",
       " 18,\n",
       " 46,\n",
       " 11,\n",
       " 54,\n",
       " 57,\n",
       " 65]"
      ]
     },
     "execution_count": 81,
     "metadata": {},
     "output_type": "execute_result"
    }
   ],
   "source": [
    "X = list(np.random.randint(69, size=50))\n",
    "X"
   ]
  },
  {
   "cell_type": "code",
   "execution_count": 82,
   "id": "682f2f0d-4007-4db9-a847-1804fd00ddd2",
   "metadata": {},
   "outputs": [
    {
     "data": {
      "text/plain": [
       "[7,\n",
       " 1,\n",
       " 7,\n",
       " 26,\n",
       " 55,\n",
       " 12,\n",
       " 20,\n",
       " 28,\n",
       " 55,\n",
       " 68,\n",
       " 44,\n",
       " 8,\n",
       " 19,\n",
       " 50,\n",
       " 2,\n",
       " 64,\n",
       " 0,\n",
       " 58,\n",
       " 3,\n",
       " 57,\n",
       " 40,\n",
       " 0,\n",
       " 57,\n",
       " 15,\n",
       " 63,\n",
       " 22,\n",
       " 64,\n",
       " 68,\n",
       " 37,\n",
       " 3,\n",
       " 3,\n",
       " 64,\n",
       " 37,\n",
       " 13,\n",
       " 7,\n",
       " 51,\n",
       " 17,\n",
       " 2,\n",
       " 33,\n",
       " 66,\n",
       " 2,\n",
       " 58,\n",
       " 50,\n",
       " 3,\n",
       " 20,\n",
       " 19,\n",
       " 23,\n",
       " 47,\n",
       " 60,\n",
       " 17]"
      ]
     },
     "execution_count": 82,
     "metadata": {},
     "output_type": "execute_result"
    }
   ],
   "source": [
    "Y = list(np.random.randint(69, size=50))\n",
    "Y"
   ]
  },
  {
   "cell_type": "code",
   "execution_count": 83,
   "id": "1ee71e8f-bd94-4a39-996b-16862ffe2c85",
   "metadata": {},
   "outputs": [
    {
     "data": {
      "text/plain": [
       "(0, 65)"
      ]
     },
     "execution_count": 83,
     "metadata": {},
     "output_type": "execute_result"
    }
   ],
   "source": [
    "min_and_max(X)"
   ]
  },
  {
   "cell_type": "code",
   "execution_count": 84,
   "id": "37bb41d8-ab44-4b04-901f-c2b0b57d0ffc",
   "metadata": {},
   "outputs": [
    {
     "data": {
      "text/plain": [
       "0.0"
      ]
     },
     "execution_count": 84,
     "metadata": {},
     "output_type": "execute_result"
    }
   ],
   "source": [
    "min_euc_dist(X, Y)"
   ]
  },
  {
   "cell_type": "code",
   "execution_count": 85,
   "id": "ce5f6133-74b3-44d9-8719-5a43a46e01b9",
   "metadata": {},
   "outputs": [
    {
     "data": {
      "text/plain": [
       "[0,\n",
       " 2,\n",
       " 4,\n",
       " 5,\n",
       " 6,\n",
       " 8,\n",
       " 11,\n",
       " 11,\n",
       " 14,\n",
       " 14,\n",
       " 14,\n",
       " 15,\n",
       " 16,\n",
       " 18,\n",
       " 20,\n",
       " 20,\n",
       " 23,\n",
       " 23,\n",
       " 26,\n",
       " 27,\n",
       " 27,\n",
       " 28,\n",
       " 28,\n",
       " 29,\n",
       " 32,\n",
       " 33,\n",
       " 33,\n",
       " 36,\n",
       " 38,\n",
       " 42,\n",
       " 44,\n",
       " 44,\n",
       " 45,\n",
       " 46,\n",
       " 46,\n",
       " 46,\n",
       " 47,\n",
       " 48,\n",
       " 50,\n",
       " 54,\n",
       " 54,\n",
       " 56,\n",
       " 56,\n",
       " 57,\n",
       " 57,\n",
       " 58,\n",
       " 60,\n",
       " 61,\n",
       " 64,\n",
       " 65]"
      ]
     },
     "execution_count": 85,
     "metadata": {},
     "output_type": "execute_result"
    }
   ],
   "source": [
    "sort(X)"
   ]
  }
 ],
 "metadata": {
  "kernelspec": {
   "display_name": "Python 3 (ipykernel)",
   "language": "python",
   "name": "python3"
  },
  "language_info": {
   "codemirror_mode": {
    "name": "ipython",
    "version": 3
   },
   "file_extension": ".py",
   "mimetype": "text/x-python",
   "name": "python",
   "nbconvert_exporter": "python",
   "pygments_lexer": "ipython3",
   "version": "3.12.1"
  }
 },
 "nbformat": 4,
 "nbformat_minor": 5
}
