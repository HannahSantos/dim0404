{
 "cells": [
  {
   "cell_type": "code",
   "execution_count": 91,
   "id": "630951c0-2967-423b-95a2-0e43c2ce89e5",
   "metadata": {},
   "outputs": [],
   "source": [
    "# bibliotecas\n",
    "import sympy\n",
    "import numpy as np"
   ]
  },
  {
   "cell_type": "code",
   "execution_count": 92,
   "id": "f17d3a4b-3a09-4094-a4e3-6c1736aac756",
   "metadata": {},
   "outputs": [],
   "source": [
    "# definir símbolo\n",
    "x = sympy.Symbol(\"x\")"
   ]
  },
  {
   "cell_type": "code",
   "execution_count": 93,
   "id": "7fe7d27e-1551-4f0f-9e8d-626ed1a17965",
   "metadata": {},
   "outputs": [],
   "source": [
    "# criar função\n",
    "f1 = x + 1\n",
    "f2 = -x**2 + 2\n",
    "f3 = x"
   ]
  },
  {
   "cell_type": "code",
   "execution_count": 94,
   "id": "b755810a-e2e3-4b2d-9ef2-4b630f0da2da",
   "metadata": {},
   "outputs": [
    {
     "name": "stdout",
     "output_type": "stream",
     "text": [
      "O valor do limite é L = 0\n",
      "O valor do limite é L = 2\n",
      "O valor do limite é L = 4\n"
     ]
    }
   ],
   "source": [
    "# calcular limites\n",
    "L1 = sympy.limit(f1,x,-1)\n",
    "print(f'O valor do limite é L = {L1}')\n",
    "L2 = sympy.limit(f2,x,0)\n",
    "print(f'O valor do limite é L = {L2}')\n",
    "L3 = sympy.limit(f3,x,4)\n",
    "print(f'O valor do limite é L = {L3}')"
   ]
  },
  {
   "cell_type": "code",
   "execution_count": 95,
   "id": "10f7e157-8d5e-4fb9-a952-eb178a44285a",
   "metadata": {},
   "outputs": [],
   "source": [
    "# função a ser derivada\n",
    "f = sympy.sqrt(x+4)"
   ]
  },
  {
   "cell_type": "code",
   "execution_count": 96,
   "id": "52fe18eb-e50e-4590-a79c-73b664b89cb8",
   "metadata": {},
   "outputs": [
    {
     "name": "stdout",
     "output_type": "stream",
     "text": [
      "A derivada de f x é 1/(2*sqrt(x + 4))\n"
     ]
    }
   ],
   "source": [
    "dfx_dx = sympy.diff(f,x)\n",
    "print(f'A derivada de f x é {dfx_dx}')"
   ]
  },
  {
   "cell_type": "code",
   "execution_count": 97,
   "id": "5d84a599-c4aa-4936-8579-a2e5ba190928",
   "metadata": {},
   "outputs": [
    {
     "name": "stdout",
     "output_type": "stream",
     "text": [
      "A derivada de f x é -3/x**2\n"
     ]
    }
   ],
   "source": [
    "f = 3/x\n",
    "dfx_dx = sympy.diff(f,x)\n",
    "print(f'A derivada de f x é {dfx_dx}')"
   ]
  },
  {
   "cell_type": "code",
   "execution_count": 98,
   "id": "a1fb3db2-6989-4b2d-a228-6dcc4d9f6cc6",
   "metadata": {},
   "outputs": [
    {
     "name": "stdout",
     "output_type": "stream",
     "text": [
      "A derivada de f x é 9*x**2 + 8/x**3\n"
     ]
    }
   ],
   "source": [
    "f = 3*(x**3) - (4/(x**2))\n",
    "dfx_dx = sympy.diff(f,x)\n",
    "print(f'A derivada de f x é {dfx_dx}')"
   ]
  },
  {
   "cell_type": "code",
   "execution_count": 99,
   "id": "5648a61b-a122-40ce-919f-bae02ab781bf",
   "metadata": {},
   "outputs": [
    {
     "name": "stdout",
     "output_type": "stream",
     "text": [
      "A derivada de f x é -6*x*(4 - x**2)**2\n"
     ]
    }
   ],
   "source": [
    "f = (4 - x**2)**3\n",
    "dfx_dx = sympy.diff(f,x)\n",
    "print(f'A derivada de f x é {dfx_dx}')"
   ]
  },
  {
   "cell_type": "code",
   "execution_count": 100,
   "id": "ca656c91-d258-49fb-aeb3-8b043949c0f0",
   "metadata": {},
   "outputs": [
    {
     "name": "stdout",
     "output_type": "stream",
     "text": [
      "A derivada de f x é exp(sin(x))*cos(x)\n"
     ]
    }
   ],
   "source": [
    "f = sympy.exp(sympy.sin(x))\n",
    "dfx_dx = sympy.diff(f,x)\n",
    "print(f'A derivada de f x é {dfx_dx}')"
   ]
  },
  {
   "cell_type": "code",
   "execution_count": 101,
   "id": "4f571c66-0602-4497-8b82-178679f09a1a",
   "metadata": {},
   "outputs": [
    {
     "name": "stdout",
     "output_type": "stream",
     "text": [
      "A derivada de f x é 1/(x + 2)\n"
     ]
    }
   ],
   "source": [
    "f = sympy.log(x+2)\n",
    "dfx_dx = sympy.diff(f,x)\n",
    "print(f'A derivada de f x é {dfx_dx}')"
   ]
  },
  {
   "cell_type": "code",
   "execution_count": 102,
   "id": "a291d4d2-8f98-40ca-8642-590eb915d6be",
   "metadata": {},
   "outputs": [],
   "source": [
    "f = x**2*sympy.cos(x)+x*sympy.sin(x)"
   ]
  },
  {
   "cell_type": "code",
   "execution_count": 103,
   "id": "f570b464-2ef7-4cad-a920-62110754ff1c",
   "metadata": {},
   "outputs": [
    {
     "name": "stdout",
     "output_type": "stream",
     "text": [
      "A derivada de f x é -x**2*sin(x) + 3*x*cos(x) + sin(x)\n"
     ]
    }
   ],
   "source": [
    "dfx_dx = sympy.diff(f,x)\n",
    "print(f'A derivada de f x é {dfx_dx}')"
   ]
  },
  {
   "cell_type": "code",
   "execution_count": 104,
   "id": "33f7a168-647a-43cd-a0f5-b4c626c8a9d8",
   "metadata": {},
   "outputs": [],
   "source": [
    "f = sympy.sqrt(3*(x**2) + 2)"
   ]
  },
  {
   "cell_type": "code",
   "execution_count": 105,
   "id": "027314aa-14f7-4207-bc5c-341f3361c3f4",
   "metadata": {},
   "outputs": [
    {
     "name": "stdout",
     "output_type": "stream",
     "text": [
      "O valor da integral é F = 2\n"
     ]
    }
   ],
   "source": [
    "# exemplo 1 de integração\n",
    "f = x\n",
    "F = sympy.integrate(f, (x, 0, 2))\n",
    "print(f'O valor da integral é F = {F}')"
   ]
  },
  {
   "cell_type": "code",
   "execution_count": 106,
   "id": "4dfcf41d-e9b4-4105-8a6a-776798720033",
   "metadata": {},
   "outputs": [
    {
     "name": "stdout",
     "output_type": "stream",
     "text": [
      "O valor da integral é F = -4/3\n"
     ]
    }
   ],
   "source": [
    "# exemplo 2 de integração\n",
    "f = x**3 - 2*x**2 + 4*x\n",
    "F = sympy.integrate(f, (x, -1, 1))\n",
    "print(f'O valor da integral é F = {F}')"
   ]
  },
  {
   "cell_type": "code",
   "execution_count": 107,
   "id": "e6610cbc-249c-4c28-b713-bddb88ad2fe6",
   "metadata": {},
   "outputs": [
    {
     "name": "stdout",
     "output_type": "stream",
     "text": [
      "O valor da integral é F = 21.9809706208743\n"
     ]
    }
   ],
   "source": [
    "# exemplo 3 de integração\n",
    "f = x **(np.pi-1)\n",
    "F = sympy.integrate(f, (x, 2, 4))\n",
    "print(f'O valor da integral é F = {F}')"
   ]
  },
  {
   "cell_type": "code",
   "execution_count": 108,
   "id": "0136ea39-5534-4ac2-9bd1-5f26e0e78c7a",
   "metadata": {},
   "outputs": [
    {
     "name": "stdout",
     "output_type": "stream",
     "text": [
      "O valor da integral é F = -exp(-1) + exp(-2) + log(2)\n"
     ]
    }
   ],
   "source": [
    "# exemplo 4 de integração\n",
    "f = ( 1/ x - sympy.exp(-x) )\n",
    "F = sympy.integrate(f, (x, 1, 2))\n",
    "print(f'O valor da integral é F = {F}')"
   ]
  },
  {
   "cell_type": "code",
   "execution_count": 109,
   "id": "2b627996-695b-4a68-93a3-925a1c6c429a",
   "metadata": {},
   "outputs": [
    {
     "name": "stdout",
     "output_type": "stream",
     "text": [
      "O valor da integral é F = log(x) + exp(-x)\n"
     ]
    }
   ],
   "source": [
    "# exemplo de integração não definida\n",
    "f = ( 1/ x - sympy.exp(-x) )\n",
    "F = sympy.integrate(f, x)\n",
    "print(f'O valor da integral é F = {F}')"
   ]
  }
 ],
 "metadata": {
  "kernelspec": {
   "display_name": "Python 3 (ipykernel)",
   "language": "python",
   "name": "python3"
  },
  "language_info": {
   "codemirror_mode": {
    "name": "ipython",
    "version": 3
   },
   "file_extension": ".py",
   "mimetype": "text/x-python",
   "name": "python",
   "nbconvert_exporter": "python",
   "pygments_lexer": "ipython3",
   "version": "3.12.1"
  }
 },
 "nbformat": 4,
 "nbformat_minor": 5
}
